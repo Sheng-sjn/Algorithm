{
 "cells": [
  {
   "cell_type": "markdown",
   "metadata": {},
   "source": [
    "# Binary Search"
   ]
  },
  {
   "cell_type": "markdown",
   "metadata": {},
   "source": [
    "## Find range"
   ]
  },
  {
   "cell_type": "markdown",
   "metadata": {},
   "source": [
    "### Left [l, middle], [middle + 1, r]"
   ]
  },
  {
   "cell_type": "markdown",
   "metadata": {},
   "source": [
    "```cpp\n",
    "int leftBound(vector &items, int x) {\n",
    "    int l = 0, r = items.size();\n",
    "\n",
    "    while (l < r) {\n",
    "        int mid = l + r >> 1;\n",
    "        if (items[mid] >= x) r = mid;\n",
    "        else l = mid + 1;\n",
    "    }\n",
    "\n",
    "    // l == r\n",
    "    return items[l] == x ? r : -1;\n",
    "}\n",
    "```"
   ]
  },
  {
   "cell_type": "markdown",
   "metadata": {},
   "source": [
    "### Right [l, middle - 1], [middle, r]"
   ]
  },
  {
   "cell_type": "markdown",
   "metadata": {},
   "source": [
    "```cpp\n",
    "int rightBound(vector &items, int x) {\n",
    "    int l = 0, r = items.size();\n",
    "\n",
    "    while (l < r) {\n",
    "        int mid = l + r + 1 >> 1; // Pick the right median one when size is even.\n",
    "\n",
    "        if (items[mid] <= x) l = mid;\n",
    "        else r = mid - 1;\n",
    "    }\n",
    "\n",
    "    return items[l] == x ? r : -1;\n",
    "}\n",
    "```"
   ]
  },
  {
   "cell_type": "markdown",
   "metadata": {},
   "source": [
    "## Peak value (f' = 0)"
   ]
  },
  {
   "cell_type": "markdown",
   "metadata": {},
   "source": [
    "```cpp\n",
    "// Prerequisite: No two close value are equal.\n",
    "int findPeak(vector &items) {\n",
    "    int l = 0, r = items.size() - 1;\n",
    "\n",
    "    if (r == 0) return 0; // Only one element.\n",
    "    if (items[l] > items[l + 1]) return l; // Leftmost is peak.\n",
    "    if (items[r] > items[r - 1]) return r; // Rightmost is peak.\n",
    "    l ++, r --;\n",
    "    while (l <= r) {\n",
    "        int mid = l + r >> 1;\n",
    "        if (items[mid] < items[mid - 1]) r = mid - 1;\n",
    "        else if (items[mid] < items[mid + 1]) l = mid + 1;\n",
    "        else return mid;\n",
    "    }\n",
    "\n",
    "    return -1;\n",
    "}"
   ]
  }
 ],
 "metadata": {
  "language_info": {
   "name": "python"
  }
 },
 "nbformat": 4,
 "nbformat_minor": 2
}
